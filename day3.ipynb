{
 "cells": [
  {
   "cell_type": "code",
   "execution_count": 1,
   "metadata": {},
   "outputs": [],
   "source": [
    "infile = \"day3.txt\""
   ]
  },
  {
   "cell_type": "code",
   "execution_count": 2,
   "metadata": {},
   "outputs": [],
   "source": [
    "from collections import Counter"
   ]
  },
  {
   "cell_type": "code",
   "execution_count": 6,
   "metadata": {},
   "outputs": [
    {
     "data": {
      "text/plain": [
       "2572"
      ]
     },
     "execution_count": 6,
     "metadata": {},
     "output_type": "execute_result"
    }
   ],
   "source": [
    "seen = set()\n",
    "pos = (0, 0)\n",
    "seen.add(pos)\n",
    "\n",
    "d = {\n",
    "    \">\": (1, 0),\n",
    "    \"<\": (-1, 0),\n",
    "    \"^\": (0, -1),\n",
    "    \"v\": (0, 1)\n",
    "}\n",
    "with open(infile) as fd:\n",
    "    for p in fd.read().rstrip():\n",
    "        pos = tuple(map(sum, zip(pos, d[p])))\n",
    "        seen.add(pos)\n",
    "\n",
    "len(seen)"
   ]
  },
  {
   "cell_type": "code",
   "execution_count": 9,
   "metadata": {},
   "outputs": [
    {
     "data": {
      "text/plain": [
       "2631"
      ]
     },
     "execution_count": 9,
     "metadata": {},
     "output_type": "execute_result"
    }
   ],
   "source": [
    "seen = set()\n",
    "santa = (0, 0)\n",
    "robo = (0, 0)\n",
    "seen.add(santa)\n",
    "\n",
    "d = {\n",
    "    \">\": (1, 0),\n",
    "    \"<\": (-1, 0),\n",
    "    \"^\": (0, -1),\n",
    "    \"v\": (0, 1)\n",
    "}\n",
    "with open(infile) as fd:\n",
    "    instructions = fd.read().rstrip()\n",
    "    for s, r in zip(instructions[:-1:2], instructions[1::2]):\n",
    "        santa = tuple(map(sum, zip(santa, d[s])))\n",
    "        seen.add(santa)\n",
    "        robo = tuple(map(sum, zip(robo, d[r])))\n",
    "        seen.add(robo)\n",
    "\n",
    "len(seen)"
   ]
  }
 ],
 "metadata": {
  "interpreter": {
   "hash": "a49a3667c99b9642d03d5d64758329c9f74c3eae43701fd6be4f97bde07c93ac"
  },
  "kernelspec": {
   "display_name": "Python 3.7.7 64-bit ('3.7.7': pyenv)",
   "language": "python",
   "name": "python3"
  },
  "language_info": {
   "codemirror_mode": {
    "name": "ipython",
    "version": 3
   },
   "file_extension": ".py",
   "mimetype": "text/x-python",
   "name": "python",
   "nbconvert_exporter": "python",
   "pygments_lexer": "ipython3",
   "version": "3.7.7"
  },
  "orig_nbformat": 4
 },
 "nbformat": 4,
 "nbformat_minor": 2
}
