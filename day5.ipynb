{
 "cells": [
  {
   "cell_type": "code",
   "execution_count": 9,
   "metadata": {},
   "outputs": [],
   "source": [
    "infile = \"day5.txt\""
   ]
  },
  {
   "cell_type": "code",
   "execution_count": 2,
   "metadata": {},
   "outputs": [],
   "source": [
    "naughty = {(\"a\",\"b\"), (\"c\",\"d\"), (\"p\",\"q\"), (\"x\",\"y\")}\n",
    "def is_nice(word):\n",
    "    if len(word) < 3:\n",
    "        return False\n",
    "    vowels = 0\n",
    "    double = False\n",
    "    for a, b in zip(word[:-1], word[1:]):\n",
    "        if a in 'aeiou':\n",
    "            vowels += 1\n",
    "        if a == b:\n",
    "            double = True\n",
    "        if (a,b) in naughty:\n",
    "            return False\n",
    "    else:\n",
    "        if b in 'aeiou':\n",
    "            vowels += 1\n",
    "    return vowels >= 3 and double"
   ]
  },
  {
   "cell_type": "code",
   "execution_count": 10,
   "metadata": {},
   "outputs": [
    {
     "name": "stdout",
     "output_type": "stream",
     "text": [
      "258\n"
     ]
    }
   ],
   "source": [
    "with open(infile) as fd:\n",
    "    print(sum(1 for word in fd if is_nice(word.rstrip())))\n",
    "        "
   ]
  },
  {
   "cell_type": "code",
   "execution_count": 11,
   "metadata": {},
   "outputs": [],
   "source": [
    "def is_nice2(word):\n",
    "    if len(word) < 4:\n",
    "        return False\n",
    "    doubles = set()\n",
    "    abab = False\n",
    "    aba = False\n",
    "    for a, b, c in zip(word[:-2], word[1:-1], word[2:]):\n",
    "        if a == c:\n",
    "            aba = True\n",
    "        if (b,c) in doubles:\n",
    "            abab = True\n",
    "        doubles.add((a,b))\n",
    "    return aba and abab"
   ]
  },
  {
   "cell_type": "code",
   "execution_count": 14,
   "metadata": {},
   "outputs": [
    {
     "name": "stdout",
     "output_type": "stream",
     "text": [
      "53\n"
     ]
    }
   ],
   "source": [
    "with open(infile) as fd:\n",
    "    print(sum(1 for word in fd if is_nice2(word.rstrip())))\n"
   ]
  }
 ],
 "metadata": {
  "interpreter": {
   "hash": "a49a3667c99b9642d03d5d64758329c9f74c3eae43701fd6be4f97bde07c93ac"
  },
  "kernelspec": {
   "display_name": "Python 3.7.7 64-bit ('3.7.7': pyenv)",
   "language": "python",
   "name": "python3"
  },
  "language_info": {
   "codemirror_mode": {
    "name": "ipython",
    "version": 3
   },
   "file_extension": ".py",
   "mimetype": "text/x-python",
   "name": "python",
   "nbconvert_exporter": "python",
   "pygments_lexer": "ipython3",
   "version": "3.7.7"
  },
  "orig_nbformat": 4
 },
 "nbformat": 4,
 "nbformat_minor": 2
}
