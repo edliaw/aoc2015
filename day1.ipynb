{
 "cells": [
  {
   "cell_type": "code",
   "execution_count": 3,
   "metadata": {},
   "outputs": [],
   "source": [
    "infile = \"day1.txt\""
   ]
  },
  {
   "cell_type": "code",
   "execution_count": 5,
   "metadata": {},
   "outputs": [
    {
     "name": "stdout",
     "output_type": "stream",
     "text": [
      "1797\n",
      "-1\n"
     ]
    }
   ],
   "source": [
    "floor = 0\n",
    "with open(infile) as fd:\n",
    "    instructions = fd.read().rstrip()\n",
    "for i, ch in enumerate(instructions):\n",
    "    if ch == \"(\":\n",
    "        floor += 1\n",
    "    elif ch == \")\":\n",
    "        floor -= 1\n",
    "    if floor == -1:\n",
    "        print(i+1)\n",
    "        break\n",
    "print(floor)"
   ]
  }
 ],
 "metadata": {
  "interpreter": {
   "hash": "a49a3667c99b9642d03d5d64758329c9f74c3eae43701fd6be4f97bde07c93ac"
  },
  "kernelspec": {
   "display_name": "Python 3.7.7 64-bit ('3.7.7': pyenv)",
   "language": "python",
   "name": "python3"
  },
  "language_info": {
   "codemirror_mode": {
    "name": "ipython",
    "version": 3
   },
   "file_extension": ".py",
   "mimetype": "text/x-python",
   "name": "python",
   "nbconvert_exporter": "python",
   "pygments_lexer": "ipython3",
   "version": "3.7.7"
  },
  "orig_nbformat": 4
 },
 "nbformat": 4,
 "nbformat_minor": 2
}
