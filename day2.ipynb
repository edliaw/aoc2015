{
 "cells": [
  {
   "cell_type": "code",
   "execution_count": 1,
   "metadata": {},
   "outputs": [],
   "source": [
    "infile = \"day2.txt\""
   ]
  },
  {
   "cell_type": "code",
   "execution_count": 10,
   "metadata": {},
   "outputs": [],
   "source": [
    "def wrap_paper(dim):\n",
    "    return dim[0]*dim[1]*3 + dim[1]*dim[2]*2 + dim[2]*dim[0]*2\n",
    "\n",
    "def wrap_ribbon(dim):\n",
    "    return dim[0]*2 + dim[1]*2 + dim[0]*dim[1]*dim[2]"
   ]
  },
  {
   "cell_type": "code",
   "execution_count": 14,
   "metadata": {},
   "outputs": [
    {
     "name": "stdout",
     "output_type": "stream",
     "text": [
      "1606483\n",
      "3842356\n"
     ]
    }
   ],
   "source": [
    "paper = 0\n",
    "ribbon = 0\n",
    "with open(infile) as fd:\n",
    "    for line in fd:\n",
    "        dim = sorted(int(x) for x in line.rstrip().split(\"x\"))\n",
    "        paper += wrap_paper(dim)\n",
    "        ribbon += wrap_ribbon(dim)\n",
    "print(paper)\n",
    "print(ribbon)"
   ]
  },
  {
   "cell_type": "code",
   "execution_count": 13,
   "metadata": {},
   "outputs": [
    {
     "name": "stdout",
     "output_type": "stream",
     "text": [
      "34\n",
      "14\n"
     ]
    }
   ],
   "source": [
    "print(wrap_ribbon((2,3,4)))\n",
    "print(wrap_ribbon((1,1,10)))"
   ]
  },
  {
   "cell_type": "code",
   "execution_count": null,
   "metadata": {},
   "outputs": [],
   "source": []
  }
 ],
 "metadata": {
  "interpreter": {
   "hash": "a49a3667c99b9642d03d5d64758329c9f74c3eae43701fd6be4f97bde07c93ac"
  },
  "kernelspec": {
   "display_name": "Python 3.7.7 64-bit ('3.7.7': pyenv)",
   "language": "python",
   "name": "python3"
  },
  "language_info": {
   "codemirror_mode": {
    "name": "ipython",
    "version": 3
   },
   "file_extension": ".py",
   "mimetype": "text/x-python",
   "name": "python",
   "nbconvert_exporter": "python",
   "pygments_lexer": "ipython3",
   "version": "3.7.7"
  },
  "orig_nbformat": 4
 },
 "nbformat": 4,
 "nbformat_minor": 2
}
